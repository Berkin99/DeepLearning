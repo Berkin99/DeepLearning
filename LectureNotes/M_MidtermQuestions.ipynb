{
 "cells": [
  {
   "cell_type": "markdown",
   "metadata": {},
   "source": [
    "# **CSE655 Midterm Questions**"
   ]
  },
  {
   "cell_type": "markdown",
   "metadata": {},
   "source": [
    "### **CSE655 Real Midterm Questions**\n",
    "\n",
    "* 1. Calculate how many tunable parameters in this given network:\n",
    "    * 128x128x8 Input layer\n",
    "    * 3x3 Conv 32 \n",
    "    * Pooling\n",
    "    * 3x3 Conv 32 \n",
    "    * Pooling\n",
    "    * 3x3 Conv 64\n",
    "    * Pooling\n",
    "    * 1024 Dense\n",
    "    * 10 Output\n",
    "\n",
    "* 2. If we add batch normalization to first layer, how parameters change?\n",
    "\n",
    "* 3. What is residual networks, what advantages over CNN's? \n",
    "\n",
    "* 4. Why we call Loss functions as Surrogade Functions, what we want from a Surrogate function?\n",
    "\n",
    "* 5. Is 1x1 Conv layer useful? Why?\n",
    "\n",
    "* 6. Convoluton can generalize object position in the image, but how we overcome rotation and scale changes?\n",
    "\n",
    "* 7. Give 5 regularization types. Explain 2 of them in details.\n",
    "\n",
    "* 8. Explain Feature vector and how we can use them, draw.\n",
    "\n",
    "* 9. Explain Bias and Variance problem, and give examples for fixing it 25p\n",
    "\n",
    "### **CSE655 Expected Midterm Questions**\n",
    "\n",
    "#### **2-3 Perceptron**\n",
    "* **Explain what can we do with one Peceptron, what is the limits.**\n",
    "* **Write 3 activation functions. (Advantages & Disadvantages)**\n",
    "* **Explain diminishing and exploding gradient problem.**\n",
    "\n",
    "#### **4 Optimization**\n",
    "* **What is the difference between Instance, Batch and Mini-Batch**\n",
    "* **Why should we use Mini-Batch?**\n",
    "* **Why should we use Batch Normalization?**\n",
    "* **What is the advantages of different Loss functions?**\n",
    "\n",
    "#### **5 Regularization**\n",
    "* **Write 3 different ways to fix overfitting problem.**\n",
    "* **Write 3 different ways to fix underfitting problem.**\n",
    "* **We have image set of shapes. What can we do for data augmentation?**\n",
    "* **Give an useful example for Multi-Task Learning.**\n",
    "\n",
    "#### **6 CNN** \n",
    "* **What is Convolution? (Advantages & Disadvantages)**\n",
    "* **What is motivation for Convolution?**\n",
    "* **What is feature extraction?**\n",
    "* **Why even use 1x1 Conv Layer?**\n",
    "* **Why AlexNet had a great success?**\n",
    "* **What type of layers used in AlexNet? Explain each layer class.**\n"
   ]
  }
 ],
 "metadata": {
  "language_info": {
   "name": "python"
  }
 },
 "nbformat": 4,
 "nbformat_minor": 2
}
