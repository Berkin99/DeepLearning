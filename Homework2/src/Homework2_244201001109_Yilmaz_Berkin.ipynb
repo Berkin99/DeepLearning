{
 "cells": [
  {
   "cell_type": "markdown",
   "metadata": {},
   "source": [
    "# **CSE655 Homework 2**\n",
    "\n",
    "* **GTU Artificial Intelligence MSc.**\n",
    "* **Student Name:** Berkin Barış Yılmaz\n",
    "* **ID:** 244201001109\n",
    "\n",
    "* [github.com/Berkin99/DeepLearning](https://github.com/Berkin99/DeepLearning)"
   ]
  },
  {
   "cell_type": "code",
   "execution_count": null,
   "metadata": {},
   "outputs": [],
   "source": [
    "# Import MNIST "
   ]
  }
 ],
 "metadata": {
  "kernelspec": {
   "display_name": "Python 3 (ipykernel)",
   "language": "python",
   "name": "python3"
  },
  "language_info": {
   "codemirror_mode": {
    "name": "ipython",
    "version": 3
   },
   "file_extension": ".py",
   "mimetype": "text/x-python",
   "name": "python",
   "nbconvert_exporter": "python",
   "pygments_lexer": "ipython3",
   "version": "3.12.0"
  }
 },
 "nbformat": 4,
 "nbformat_minor": 4
}
