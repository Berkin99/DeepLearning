{
 "cells": [
  {
   "cell_type": "markdown",
   "metadata": {},
   "source": [
    "# **CSE655 Predicted Midterm Questions**"
   ]
  },
  {
   "cell_type": "markdown",
   "metadata": {},
   "source": [
    "#### **2-3 Perceptron**\n",
    "* **Explain what can we do with one Peceptron, what is the limits.**\n",
    "* **Name and draw 3 activation functions. (Advantages & Disadvantages)**\n",
    "* **Explain diminishing and exploding gradient problem.**\n",
    "\n",
    "#### **4 Optimization**\n",
    "* **What is the difference between Instance, Batch and Mini-Batch**\n",
    "* **Why should we use Mini-Batch?**\n",
    "* **Why should we use Batch Normalization?**\n",
    "* **What is the advantages of different Loss functions?**\n",
    "\n",
    "#### **6 CNN** \n",
    "* **What is Convolution? (Advantages & Disadvantages)**\n",
    "* **What is feature extraction?**\n",
    "* **Why even use 1x1 Conv Layer?**\n",
    "* **Why AlexNet had a great success?**\n",
    "* **What type of layers used in AlexNet? Explain each layer class.**\n"
   ]
  }
 ],
 "metadata": {
  "language_info": {
   "name": "python"
  }
 },
 "nbformat": 4,
 "nbformat_minor": 2
}
