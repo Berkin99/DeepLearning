{
 "cells": [
  {
   "cell_type": "markdown",
   "metadata": {},
   "source": [
    "## **3. Feed Forward Networks**"
   ]
  },
  {
   "cell_type": "markdown",
   "metadata": {},
   "source": [
    "### **3.1 Supervised Machine Learning**\n",
    "\n",
    "In supervised machine learning, the goal is to learn a function $ f(x) $ that maps input data $ x $ to the correct output $ y $, using a labeled dataset $ \\{(x_i, y_i)\\}_{i=1}^n $. The objective is to optimize $ f $ such that the predicted outputs closely align with the true labels $ y_i $.\n",
    "\n",
    "The optimization problem is generally expressed as:\n",
    "\n",
    "$$\n",
    "\\arg \\max_{f \\in F} \\sum_{i=1}^n g(y_i, f(x_i))\n",
    "$$\n",
    "\n",
    "#### **Explanation**\n",
    "1. **Objective Function**:\n",
    "   - The term $g(y_i, f(x_i))$ quantifies how well the predicted value $f(x_i)$ matches the true label $y_i$.\n",
    "   - Examples of $g$ include:\n",
    "     - Log-likelihood for classification.\n",
    "     - Negative loss (e.g., negative squared error) for regression.\n",
    "\n",
    "2. **Hypothesis Space**:\n",
    "   - $F$ represents the space of all possible functions $ f $ that the model can learn, often parameterized by weights in a neural network.\n",
    "\n",
    "3. **Optimization**:\n",
    "   - The function $ f $ is selected from $ F $ by maximizing the sum of $g(y_i, f(x_i))$ over all data points. This process involves training the model to minimize the loss function corresponding to $g$.\n",
    "\n",
    "4. **Applications**:\n",
    "   - Supervised learning tasks include classification (e.g., image recognition) and regression (e.g., predicting stock prices).\n",
    "\n",
    "#### **Connection to Deep Feedforward Networks**\n",
    "\n",
    "Deep feedforward networks, also called multilayer perceptrons, are one way to implement supervised learning. These models define the function $ f(x) $ as a composition of layers, each performing a linear transformation followed by a nonlinear activation. Training a deep feedforward network involves optimizing the weights across all layers to solve the supervised learning objective."
   ]
  }
 ],
 "metadata": {
  "language_info": {
   "name": "python"
  }
 },
 "nbformat": 4,
 "nbformat_minor": 2
}
