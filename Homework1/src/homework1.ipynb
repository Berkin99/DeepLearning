{
 "cells": [
  {
   "cell_type": "markdown",
   "metadata": {},
   "source": [
    "# **CSE655 Homework1**"
   ]
  },
  {
   "cell_type": "markdown",
   "metadata": {},
   "source": [
    "### *Part 1: Training a deep feed forward network for multidimensional regression.*\n",
    "Assume that you are given a polynomial with multiple (8) inputs and multiple outputs (6) of the form:\n",
    "\\begin{align*}\n",
    "(y_1​, y_2​, …, y_6​) = P(x_1​, x_2​, …, x_8​)\n",
    "\\end{align*}\n",
    "\n",
    "\\begin{align*}\n",
    "y_1 &= x_1 x_3 + 1.2 x_1 x_5 - x_6 x_7 x_8 - 2 x_1^2 x_8 + x_5 \\\\\n",
    "y_2 &= x_1 x_5 x_6 - x_3 x_4 - 3 x_2 x_3 + 2 x_2^2 x_4 - 2 x_7 x_8 - 1 \\\\\n",
    "y_3 &= 2 x_3^2 - x_5 x_7 - 3 x_1 x_4 x_6 - x_1^2 x_2 x_4 - 1 \\\\\n",
    "y_4 &= -x_6^3 + 2 x_1 x_3 x_8 - x_1 x_4 x_7 - 2 x_5^2 x_2 x_4 - x_8 \\\\\n",
    "y_5 &= x_1^2 x_5 - 3 x_3 x_4 x_8 + x_1 x_2 x_4 - 3 x_6 - x_1^2 x_7 + 2 \\\\\n",
    "y_6 &= x_1^2 x_3 x_6 - x_3 x_5 x_7 + x_3 x_4 + 2.2 x_4 + x^2_2 x_3 - 2.1\n",
    "\\end{align*}\n",
    "\n"
   ]
  },
  {
   "cell_type": "code",
   "execution_count": 2,
   "metadata": {},
   "outputs": [],
   "source": [
    "def function(x):\n",
    "    x1, x2, x3, x4, x5, x6, x7, x8 = x\n",
    "    \n",
    "    y1 = x1 * x3 + 1.2 * x1 * x5 - x6 * x7 * x8 - 2 * x1**2 * x8 + x5\n",
    "    y2 = x1 * x5 * x6 - x3 * x4 - 3 * x2 * x3 + 2 * x2**2 * x4 - 2 * x7 * x8 - 1\n",
    "    y3 = 2 * x3**2 - x5 * x7 - 3 * x1 * x4 * x6 - x1**2 * x2 * x4 - 1\n",
    "    y4 = -x6**3 + 2 * x1 * x3 * x8 - x1 * x4 * x7 - 2 * x5**2 * x2 * x4 - x8\n",
    "    y5 = x1**2 * x5 - 3 * x3 * x4 * x8 + x1 * x2 * x4 - 3 * x6 - x1**2 * x7 + 2\n",
    "    y6 = x1**2 * x3 * x6 - x3 * x5 * x7 + x3 * x4 + 2.2 * x4 + x2**2 * x3 - 2.1\n",
    "    \n",
    "    return [y1, y2, y3, y4, y5, y6]"
   ]
  },
  {
   "cell_type": "markdown",
   "metadata": {},
   "source": [
    "Training and validation data:\n",
    "* Given the polynomials, generate 𝑁t instances of data pairs of the form: \n",
    "\\begin{align*} {(x_1^t, x_2^t, x_3^t ... x_8^t), (y_1^t, y_2^t ... y_6^t)} \\end{align*}\n",
    "* When needed, add some noise to the training data from a normal distribution with mean 𝜇 and standard deviation 𝜎 such that the training data becomes:\n",
    "\\begin{align*} {(x_1^t, x_2^t, x_3^t ... x_8^t), (y_1^t + 𝑁(𝜇,𝜎), y_2^t + 𝑁(𝜇,𝜎) ... y_6^t + 𝑁(𝜇,𝜎))} \\end{align*}\n",
    "* Similarly, create an additional 𝑁v instances:\n",
    "\\begin{align*} {(x_1^v, x_2^v, x_3^v ... x_8^v), (y_1^v, y_2^v ... y_6^v)} \\end{align*}\n",
    "for validation of the trained model."
   ]
  },
  {
   "cell_type": "code",
   "execution_count": null,
   "metadata": {},
   "outputs": [
    {
     "ename": "IndentationError",
     "evalue": "expected an indented block after function definition on line 20 (187341525.py, line 23)",
     "output_type": "error",
     "traceback": [
      "\u001b[1;36m  Cell \u001b[1;32mIn[1], line 23\u001b[1;36m\u001b[0m\n\u001b[1;33m    print(trainingData)\u001b[0m\n\u001b[1;37m    ^\u001b[0m\n\u001b[1;31mIndentationError\u001b[0m\u001b[1;31m:\u001b[0m expected an indented block after function definition on line 20\n"
     ]
    }
   ],
   "source": [
    "import numpy as np\n",
    "\n",
    "Nt = 1000 # Training Data Count\n",
    "Nv = 1000 # Validation Data Count\n",
    "\n",
    "noiseMean = 0.0\n",
    "noiseStddev = 0.001\n",
    "\n",
    "def dataGenerator(func, count):\n",
    "    data = []\n",
    "    loop = 0\n",
    "    while loop < count:\n",
    "        x = np.random.random(8).tolist()\n",
    "        y = func(x)\n",
    "        data.append([x, y]) \n",
    "        loop += 1\n",
    "\n",
    "    return data\n",
    "\n",
    "def noiseGenerator(array, noiseMean, noiseSigma):\n",
    "    pass\n"
   ]
  }
 ],
 "metadata": {
  "kernelspec": {
   "display_name": "Python 3",
   "language": "python",
   "name": "python3"
  },
  "language_info": {
   "codemirror_mode": {
    "name": "ipython",
    "version": 3
   },
   "file_extension": ".py",
   "mimetype": "text/x-python",
   "name": "python",
   "nbconvert_exporter": "python",
   "pygments_lexer": "ipython3",
   "version": "3.12.0"
  }
 },
 "nbformat": 4,
 "nbformat_minor": 2
}
